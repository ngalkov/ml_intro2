{
 "cells": [
  {
   "cell_type": "code",
   "execution_count": 1,
   "id": "aerial-fisher",
   "metadata": {},
   "outputs": [],
   "source": [
    "import numpy as np"
   ]
  },
  {
   "cell_type": "code",
   "execution_count": 2,
   "id": "polish-shakespeare",
   "metadata": {},
   "outputs": [],
   "source": [
    "from sklearn.cluster import AgglomerativeClustering, KMeans, DBSCAN\n",
    "from sklearn.metrics import silhouette_score\n",
    "from sklearn.decomposition import PCA\n",
    "from sklearn.manifold import MDS"
   ]
  },
  {
   "cell_type": "code",
   "execution_count": 3,
   "id": "constitutional-colon",
   "metadata": {},
   "outputs": [],
   "source": [
    "data = np.array([\n",
    "    [-1, -1],\n",
    "    [-2, -1],\n",
    "    [-1, -2],\n",
    "    [0, 0],\n",
    "    [2, 1],\n",
    "    [2, 3]\n",
    "])"
   ]
  },
  {
   "cell_type": "markdown",
   "id": "successful-ethnic",
   "metadata": {},
   "source": [
    "**1**"
   ]
  },
  {
   "cell_type": "code",
   "execution_count": 4,
   "id": "closing-chambers",
   "metadata": {},
   "outputs": [],
   "source": [
    "aggl_cl = AgglomerativeClustering(n_clusters=2, linkage='single').fit(data)"
   ]
  },
  {
   "cell_type": "code",
   "execution_count": 5,
   "id": "suspected-establishment",
   "metadata": {},
   "outputs": [
    {
     "data": {
      "text/plain": [
       "array([1, 1, 1, 1, 0, 0], dtype=int64)"
      ]
     },
     "execution_count": 5,
     "metadata": {},
     "output_type": "execute_result"
    }
   ],
   "source": [
    "aggl_cl.labels_"
   ]
  },
  {
   "cell_type": "markdown",
   "id": "legitimate-sigma",
   "metadata": {},
   "source": [
    "**2**"
   ]
  },
  {
   "cell_type": "code",
   "execution_count": 6,
   "id": "romantic-mountain",
   "metadata": {},
   "outputs": [
    {
     "data": {
      "text/plain": [
       "array([[-1, -1],\n",
       "       [ 0,  0]])"
      ]
     },
     "execution_count": 6,
     "metadata": {},
     "output_type": "execute_result"
    }
   ],
   "source": [
    "init_clusters = data[(0,3), :]\n",
    "init_clusters"
   ]
  },
  {
   "cell_type": "code",
   "execution_count": 7,
   "id": "strategic-growing",
   "metadata": {},
   "outputs": [
    {
     "data": {
      "text/plain": [
       "2"
      ]
     },
     "execution_count": 7,
     "metadata": {},
     "output_type": "execute_result"
    }
   ],
   "source": [
    "kmeans = KMeans(n_clusters=2, init = init_clusters, n_init=1).fit(data)\n",
    "kmeans.n_iter_"
   ]
  },
  {
   "cell_type": "code",
   "execution_count": 8,
   "id": "psychological-perception",
   "metadata": {},
   "outputs": [
    {
     "data": {
      "text/plain": [
       "array([0, 0, 0, 1, 1, 1])"
      ]
     },
     "execution_count": 8,
     "metadata": {},
     "output_type": "execute_result"
    }
   ],
   "source": [
    "kmeans.labels_"
   ]
  },
  {
   "cell_type": "markdown",
   "id": "social-sellers",
   "metadata": {},
   "source": [
    "**3**"
   ]
  },
  {
   "cell_type": "code",
   "execution_count": 9,
   "id": "professional-demographic",
   "metadata": {},
   "outputs": [
    {
     "data": {
      "text/plain": [
       "array([ 0,  0,  0,  0, -1, -1], dtype=int64)"
      ]
     },
     "execution_count": 9,
     "metadata": {},
     "output_type": "execute_result"
    }
   ],
   "source": [
    "eps = 2\n",
    "m = 3\n",
    "dbscan = DBSCAN(eps=eps, min_samples=m).fit(data)\n",
    "dbscan.labels_"
   ]
  },
  {
   "cell_type": "markdown",
   "id": "mighty-efficiency",
   "metadata": {},
   "source": [
    "**4**"
   ]
  },
  {
   "cell_type": "code",
   "execution_count": null,
   "id": "durable-cinema",
   "metadata": {},
   "outputs": [],
   "source": []
  },
  {
   "cell_type": "markdown",
   "id": "educational-selling",
   "metadata": {},
   "source": [
    "**5**"
   ]
  },
  {
   "cell_type": "code",
   "execution_count": 10,
   "id": "pressing-spanking",
   "metadata": {},
   "outputs": [
    {
     "data": {
      "text/plain": [
       "0.45993283428643883"
      ]
     },
     "execution_count": 10,
     "metadata": {},
     "output_type": "execute_result"
    }
   ],
   "source": [
    "labels = [0, 0, 0, 1, 1, 1]\n",
    "silhouette_score(data, labels)"
   ]
  },
  {
   "cell_type": "markdown",
   "id": "important-uniform",
   "metadata": {},
   "source": [
    "**6**"
   ]
  },
  {
   "cell_type": "code",
   "execution_count": 11,
   "id": "blind-christopher",
   "metadata": {},
   "outputs": [],
   "source": [
    "pca = PCA(n_components=1).fit(data)"
   ]
  },
  {
   "cell_type": "code",
   "execution_count": 12,
   "id": "resident-perry",
   "metadata": {},
   "outputs": [
    {
     "data": {
      "text/plain": [
       "array([[0.67944959, 0.73372219]])"
      ]
     },
     "execution_count": 12,
     "metadata": {},
     "output_type": "execute_result"
    }
   ],
   "source": [
    "pca.components_"
   ]
  },
  {
   "cell_type": "markdown",
   "id": "moving-patient",
   "metadata": {},
   "source": [
    "**7**"
   ]
  },
  {
   "cell_type": "code",
   "execution_count": 13,
   "id": "operational-drill",
   "metadata": {},
   "outputs": [
    {
     "data": {
      "text/plain": [
       "array([3.56006575])"
      ]
     },
     "execution_count": 13,
     "metadata": {},
     "output_type": "execute_result"
    }
   ],
   "source": [
    "pca.transform(data)[5]"
   ]
  },
  {
   "cell_type": "markdown",
   "id": "concerned-tribe",
   "metadata": {},
   "source": [
    "**8**"
   ]
  },
  {
   "cell_type": "code",
   "execution_count": 14,
   "id": "decimal-subdivision",
   "metadata": {},
   "outputs": [
    {
     "data": {
      "text/plain": [
       "array([[-1.33662747],\n",
       "       [-2.46321196],\n",
       "       [-1.9825745 ],\n",
       "       [ 0.00745504],\n",
       "       [ 2.09273265],\n",
       "       [ 3.68222624]])"
      ]
     },
     "execution_count": 14,
     "metadata": {},
     "output_type": "execute_result"
    }
   ],
   "source": [
    "mds = MDS(n_components=1, n_init=100).fit(data)\n",
    "mds.embedding_"
   ]
  },
  {
   "cell_type": "code",
   "execution_count": 15,
   "id": "retired-medicare",
   "metadata": {},
   "outputs": [
    {
     "data": {
      "text/plain": [
       "3"
      ]
     },
     "execution_count": 15,
     "metadata": {},
     "output_type": "execute_result"
    }
   ],
   "source": [
    "mds.n_iter_"
   ]
  },
  {
   "cell_type": "code",
   "execution_count": null,
   "id": "dietary-repository",
   "metadata": {},
   "outputs": [],
   "source": []
  }
 ],
 "metadata": {
  "kernelspec": {
   "display_name": "Python 3",
   "language": "python",
   "name": "python3"
  },
  "language_info": {
   "codemirror_mode": {
    "name": "ipython",
    "version": 3
   },
   "file_extension": ".py",
   "mimetype": "text/x-python",
   "name": "python",
   "nbconvert_exporter": "python",
   "pygments_lexer": "ipython3",
   "version": "3.7.9"
  }
 },
 "nbformat": 4,
 "nbformat_minor": 5
}
